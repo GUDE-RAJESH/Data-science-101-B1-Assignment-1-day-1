{
 "cells": [
  {
   "cell_type": "markdown",
   "metadata": {},
   "source": [
    "# Assignment Day 1 | 6th November 2020  Data science 101 B1"
   ]
  },
  {
   "cell_type": "code",
   "execution_count": 39,
   "metadata": {},
   "outputs": [
    {
     "name": "stdout",
     "output_type": "stream",
     "text": [
      "B. RAINBOW\n"
     ]
    }
   ],
   "source": [
    "# QUESTION (1)\n",
    "\n",
    "print(\"B. RAINBOW\")"
   ]
  },
  {
   "cell_type": "code",
   "execution_count": 38,
   "metadata": {},
   "outputs": [
    {
     "name": "stdout",
     "output_type": "stream",
     "text": [
      "LETS UPGRADE\n",
      "\n",
      "LETS UPGRADE\n"
     ]
    }
   ],
   "source": [
    "# QUESTION (2)\n",
    "a=\"lets upgrade\"\n",
    "print(a.upper())  # (or)\n",
    "print()\n",
    "print(\"LETS UPGRADE\")"
   ]
  },
  {
   "cell_type": "code",
   "execution_count": 26,
   "metadata": {},
   "outputs": [
    {
     "name": "stdout",
     "output_type": "stream",
     "text": [
      "Profit\n"
     ]
    }
   ],
   "source": [
    "# QUESTION (3)\n",
    "Cost_price = [20,20,20,19,23,19]\n",
    "Selling_price = [30,10,20,19,7,95]\n",
    "if (Cost_price > Selling_price):\n",
    "    print(\"Loss\")\n",
    "elif (Cost_price < Selling_price):\n",
    "    print(\"Profit\")\n",
    "else:\n",
    "    print(\"Neither\")"
   ]
  },
  {
   "cell_type": "code",
   "execution_count": 37,
   "metadata": {},
   "outputs": [
    {
     "name": "stdout",
     "output_type": "stream",
     "text": [
      "800.0 Rs\n"
     ]
    }
   ],
   "source": [
    "# QUESTION (4)\n",
    "Euros=float(10)\n",
    "rupees=Euros * 80\n",
    "print(rupees,\"Rs\")"
   ]
  }
 ],
 "metadata": {
  "kernelspec": {
   "display_name": "Python 3",
   "language": "python",
   "name": "python3"
  },
  "language_info": {
   "codemirror_mode": {
    "name": "ipython",
    "version": 3
   },
   "file_extension": ".py",
   "mimetype": "text/x-python",
   "name": "python",
   "nbconvert_exporter": "python",
   "pygments_lexer": "ipython3",
   "version": "3.8.3"
  }
 },
 "nbformat": 4,
 "nbformat_minor": 4
}
